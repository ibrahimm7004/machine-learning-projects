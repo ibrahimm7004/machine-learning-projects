{
 "cells": [
  {
   "attachments": {},
   "cell_type": "markdown",
   "metadata": {},
   "source": [
    "    SENTIMENT ANALYSIS USING NLTK"
   ]
  },
  {
   "cell_type": "code",
   "execution_count": null,
   "metadata": {},
   "outputs": [],
   "source": [
    "import pandas as pd\n",
    "from sklearn.model_selection import train_test_split\n",
    "from sklearn.feature_extraction.text import TfidfVectorizer\n",
    "from sklearn.naive_bayes import MultinomialNB\n",
    "from sklearn.metrics import classification_report\n",
    "from sklearn.preprocessing import LabelEncoder\n",
    "import nltk\n",
    "from nltk.sentiment.vader import SentimentIntensityAnalyzer\n",
    "\n",
    "# Download NLTK resources (if not already downloaded)\n",
    "nltk.download('vader_lexicon')\n",
    "\n",
    "\n",
    "# Data cleaning and preprocessing\n",
    "df['Text'] = df['Text'].str.lower()  # Convert text to lowercase\n",
    "df['Text'] = df['Text'].str.replace('[^\\w\\s]', '')  # Remove punctuation\n",
    "df = df[['Text', 'Language']].dropna()  # Keep only relevant columns and drop rows with missing values\n",
    "\n",
    "# Sentiment analysis using NLTK's SentimentIntensityAnalyzer\n",
    "sid = SentimentIntensityAnalyzer()\n",
    "\n",
    "def get_sentiment(text):\n",
    "    sentiment_scores = sid.polarity_scores(text)\n",
    "    if sentiment_scores['compound'] > 0:\n",
    "        return 'positive'\n",
    "    elif sentiment_scores['compound'] < 0:\n",
    "        return 'negative'\n",
    "    else:\n",
    "        return 'neutral'\n",
    "\n",
    "df['Sentiment'] = df['Text'].apply(get_sentiment)\n",
    "\n",
    "# Combine the text and target variables\n",
    "X = df['Text']\n",
    "y = df['Language']\n",
    "\n",
    "# Split the dataset into a training set and a testing set\n",
    "X_train, X_test, y_train, y_test = train_test_split(X, y, test_size=0.2, random_state=42)\n",
    "\n",
    "# Combine the training and test sets for label encoding\n",
    "combined_labels = pd.concat([y_train, y_test])\n",
    "le = LabelEncoder()\n",
    "combined_labels_encoded = le.fit_transform(combined_labels)\n",
    "\n",
    "# Split the label-encoded data back into training and test sets\n",
    "y_train_encoded = combined_labels_encoded[:len(y_train)]\n",
    "y_test_encoded = combined_labels_encoded[len(y_train):]\n",
    "\n",
    "# Vectorize the text data using TfidfVectorizer\n",
    "tfidf = TfidfVectorizer()\n",
    "X_train_tfidf = tfidf.fit_transform(X_train)\n",
    "X_test_tfidf = tfidf.transform(X_test)\n",
    "\n",
    "# Train a Naive Bayes classifier\n",
    "nb_classifier = MultinomialNB()\n",
    "nb_classifier.fit(X_train_tfidf, y_train_encoded)\n",
    "\n",
    "# Make predictions on the testing set\n",
    "predictions = nb_classifier.predict(X_test_tfidf)\n",
    "\n",
    "# Decode the predictions\n",
    "predictions_decoded = le.inverse_transform(predictions)\n",
    "\n",
    "# Evaluate the model\n",
    "print(classification_report(y_test, predictions_decoded))"
   ]
  },
  {
   "attachments": {},
   "cell_type": "markdown",
   "metadata": {},
   "source": [
    "    OUTPUT  "
   ]
  },
  {
   "attachments": {},
   "cell_type": "markdown",
   "metadata": {},
   "source": [
    "- Accuracy: 0.021897810218978103\n",
    "- Precision: 0.022483650272244447\n",
    "- Recall: 0.021897810218978103\n",
    "- F1-Score: 0.02039687434090701\n",
    "- Average Silhouette Score: 0.004"
   ]
  },
  {
   "cell_type": "markdown",
   "metadata": {},
   "source": [
    "---"
   ]
  }
 ],
 "metadata": {
  "kernelspec": {
   "display_name": "Python 3",
   "language": "python",
   "name": "python3"
  },
  "language_info": {
   "name": "python",
   "version": "3.11.0"
  },
  "orig_nbformat": 4
 },
 "nbformat": 4,
 "nbformat_minor": 2
}
