{
 "cells": [
  {
   "attachments": {},
   "cell_type": "markdown",
   "metadata": {},
   "source": [
    "    ENGAGEMENT PREDICTION USING RANDOM FOREST"
   ]
  },
  {
   "cell_type": "code",
   "execution_count": null,
   "metadata": {},
   "outputs": [],
   "source": [
    "from sklearn.ensemble import RandomForestRegressor\n",
    "from sklearn.naive_bayes import MultinomialNB\n",
    "from sklearn.metrics import accuracy_score\n",
    "import matplotlib.pyplot as plt"
   ]
  },
  {
   "cell_type": "code",
   "execution_count": null,
   "metadata": {},
   "outputs": [],
   "source": [
    "import pandas as pd\n",
    "df = pd.read_csv(\"/Users/student/Desktop/2021748/dataset1.csv\")\n",
    "X = df[['Text', 'Language']]\n",
    "y_retweets = df['RetweetCount']\n",
    "y_likes = df['LikeCount']\n",
    "y_replies = df['ReplyCount']"
   ]
  },
  {
   "cell_type": "code",
   "execution_count": null,
   "metadata": {},
   "outputs": [],
   "source": [
    "from sklearn.model_selection import train_test_split\n",
    "\n",
    "# Split the data into training and testing sets for engagement prediction\n",
    "X_train, X_test, y_retweets_train, y_retweets_test = train_test_split(X, y_retweets, test_size=0.2, random_state=42)\n",
    "X_train, X_test, y_likes_train, y_likes_test = train_test_split(X, y_likes, test_size=0.2, random_state=42)\n",
    "X_train, X_test, y_replies_train, y_replies_test = train_test_split(X, y_replies, test_size=0.2, random_state=42)"
   ]
  },
  {
   "cell_type": "code",
   "execution_count": null,
   "metadata": {},
   "outputs": [],
   "source": [
    "import numpy as np\n",
    "from sklearn.feature_extraction.text import TfidfVectorizer\n",
    "\n",
    "from sklearn.feature_extraction.text import CountVectorizer\n",
    "\n",
    "vectorizer = CountVectorizer()\n",
    "X_train_vectorized = vectorizer.fit_transform(X_train)\n",
    "X_test_vectorized = vectorizer.transform(X_test)\n",
    "\n",
    "X_train_text_vectorized = vectorizer.transform(X_train['Text'])\n",
    "X_test_text_vectorized = vectorizer.transform(X_test['Text'])\n",
    "\n",
    "X_train_combined = np.hstack((X_train_text_vectorized.toarray(), X_train['Language'].values.reshape(-1, 1)))\n",
    "X_test_combined = np.hstack((X_test_text_vectorized.toarray(), X_test['Language'].values.reshape(-1, 1)))"
   ]
  },
  {
   "cell_type": "code",
   "execution_count": null,
   "metadata": {},
   "outputs": [],
   "source": [
    "from sklearn.feature_extraction.text import TfidfVectorizer\n",
    "from sklearn.preprocessing import OneHotEncoder\n",
    "\n",
    "# Vectorize the text data using TF-IDF vectorizer\n",
    "vectorizer = TfidfVectorizer()\n",
    "X_train_text_vectorized = vectorizer.fit_transform(X_train['Text'])\n",
    "X_test_text_vectorized = vectorizer.transform(X_test['Text'])\n",
    "\n",
    "# Perform one-hot encoding on the 'Language' column\n",
    "encoder = OneHotEncoder(sparse=False, handle_unknown='ignore')\n",
    "X_train_language_encoded = encoder.fit_transform(X_train['Language'].values.reshape(-1, 1))\n",
    "X_test_language_encoded = encoder.transform(X_test['Language'].values.reshape(-1, 1))\n",
    "\n",
    "# Combine the vectorized text data with the encoded 'Language' column\n",
    "X_train_combined = np.hstack((X_train_text_vectorized.toarray(), X_train_language_encoded))\n",
    "X_test_combined = np.hstack((X_test_text_vectorized.toarray(), X_test_language_encoded))"
   ]
  },
  {
   "cell_type": "code",
   "execution_count": null,
   "metadata": {},
   "outputs": [],
   "source": [
    "# USING NAIVE BAYES\n",
    "\n",
    "nb_classifier = MultinomialNB()\n",
    "\n",
    "nb_classifier.fit(X_train_combined, y_likes_train)\n",
    "y_likes_pred = nb_classifier.predict(X_test_combined)\n",
    "likes_accuracy = accuracy_score(y_likes_test, y_likes_pred.round())\n",
    "print(\"Accuracy: \", likes_accuracy)"
   ]
  },
  {
   "cell_type": "code",
   "execution_count": null,
   "metadata": {},
   "outputs": [],
   "source": [
    "# USING RANDOM FORSEST FOR PREDICTING NO. OF TWEETS\n",
    "\n",
    "rf_regressor = RandomForestRegressor(random_state=42)\n",
    "rf_regressor.fit(X_train_combined, y_retweets_train)\n",
    "y_retweets_pred = rf_regressor.predict(X_test_combined)\n",
    "retweets_accuracy = accuracy_score(y_retweets_test, y_retweets_pred.round())\n",
    "print(\"Random Forest Accuracy (Retweets):\", retweets_accuracy)"
   ]
  }
 ],
 "metadata": {
  "kernelspec": {
   "display_name": "Python 3",
   "language": "python",
   "name": "python3"
  },
  "language_info": {
   "name": "python",
   "version": "3.11.0"
  },
  "orig_nbformat": 4
 },
 "nbformat": 4,
 "nbformat_minor": 2
}
