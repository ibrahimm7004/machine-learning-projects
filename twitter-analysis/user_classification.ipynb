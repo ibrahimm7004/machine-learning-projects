{
 "cells": [
  {
   "attachments": {},
   "cell_type": "markdown",
   "metadata": {},
   "source": [
    "        QUESTION 2 - USER CLASSIFICATION USING KNN"
   ]
  },
  {
   "cell_type": "code",
   "execution_count": null,
   "metadata": {},
   "outputs": [],
   "source": [
    "import pandas as pd\n",
    "dataset_path = \"dataset1.csv\"\n",
    "df = pd.read_csv(dataset_path)\n",
    "df = df[['Text', 'Username']]"
   ]
  },
  {
   "cell_type": "code",
   "execution_count": 22,
   "metadata": {},
   "outputs": [],
   "source": [
    "from sklearn.model_selection import train_test_split\n",
    "\n",
    "X = df['Text']  # Features\n",
    "y = df['Username']  # Target variable \n",
    "\n",
    "X_train, X_test, y_train, y_test = train_test_split(X, y, test_size=0.2, random_state=42)\n"
   ]
  },
  {
   "cell_type": "code",
   "execution_count": 23,
   "metadata": {},
   "outputs": [],
   "source": [
    "from sklearn.feature_extraction.text import CountVectorizer\n",
    "\n",
    "vectorizer = CountVectorizer()\n",
    "X_train_vectorized = vectorizer.fit_transform(X_train)\n",
    "X_test_vectorized = vectorizer.transform(X_test)\n"
   ]
  },
  {
   "cell_type": "code",
   "execution_count": 24,
   "metadata": {},
   "outputs": [
    {
     "name": "stdout",
     "output_type": "stream",
     "text": [
      "Accuracy: 0.021897810218978103\n",
      "Precision: 0.022483650272244447\n",
      "Recall: 0.021897810218978103\n",
      "F1-Score: 0.02039687434090701\n"
     ]
    },
    {
     "name": "stderr",
     "output_type": "stream",
     "text": [
      "/Users/student/anaconda3/lib/python3.9/site-packages/sklearn/metrics/_classification.py:1344: UndefinedMetricWarning: Precision is ill-defined and being set to 0.0 in labels with no predicted samples. Use `zero_division` parameter to control this behavior.\n",
      "  _warn_prf(average, modifier, msg_start, len(result))\n",
      "/Users/student/anaconda3/lib/python3.9/site-packages/sklearn/metrics/_classification.py:1344: UndefinedMetricWarning: Recall is ill-defined and being set to 0.0 in labels with no true samples. Use `zero_division` parameter to control this behavior.\n",
      "  _warn_prf(average, modifier, msg_start, len(result))\n"
     ]
    }
   ],
   "source": [
    "from sklearn.neighbors import KNeighborsClassifier\n",
    "from sklearn.metrics import accuracy_score, precision_score, recall_score, f1_score\n",
    "\n",
    "# Create a KNN classifier\n",
    "knn = KNeighborsClassifier()\n",
    "\n",
    "# Train the model\n",
    "knn.fit(X_train_vectorized, y_train)\n",
    "\n",
    "# Make predictions on the test set\n",
    "y_pred = knn.predict(X_test_vectorized)\n",
    "\n",
    "# Evaluate the model's performance\n",
    "accuracy = accuracy_score(y_test, y_pred)\n",
    "precision = precision_score(y_test, y_pred, average='weighted')\n",
    "recall = recall_score(y_test, y_pred, average='weighted')\n",
    "f1 = f1_score(y_test, y_pred, average='weighted')\n",
    "\n",
    "# Print the evaluation metrics\n",
    "print(\"Accuracy:\", accuracy)\n",
    "print(\"Precision:\", precision)\n",
    "print(\"Recall:\", recall)\n",
    "print(\"F1-Score:\", f1)"
   ]
  },
  {
   "attachments": {},
   "cell_type": "markdown",
   "metadata": {},
   "source": [
    "        QUESTION 3 - CLUSTERING"
   ]
  },
  {
   "cell_type": "code",
   "execution_count": 25,
   "metadata": {},
   "outputs": [],
   "source": [
    "from sklearn.feature_extraction.text import TfidfVectorizer\n",
    "from sklearn.cluster import KMeans\n",
    "from sklearn.metrics import silhouette_score\n",
    "import matplotlib.pyplot as plt"
   ]
  },
  {
   "cell_type": "code",
   "execution_count": 26,
   "metadata": {},
   "outputs": [],
   "source": [
    "text_data = df['Text']\n",
    "\n",
    "# Vectorize the text data using TF-IDF vectorizer\n",
    "vectorizer = TfidfVectorizer()\n",
    "X = vectorizer.fit_transform(text_data)"
   ]
  },
  {
   "cell_type": "code",
   "execution_count": 27,
   "metadata": {},
   "outputs": [
    {
     "name": "stderr",
     "output_type": "stream",
     "text": [
      "/Users/student/anaconda3/lib/python3.9/site-packages/sklearn/cluster/_kmeans.py:870: FutureWarning: The default value of `n_init` will change from 10 to 'auto' in 1.4. Set the value of `n_init` explicitly to suppress the warning\n",
      "  warnings.warn(\n"
     ]
    },
    {
     "data": {
      "text/html": [
       "<style>#sk-container-id-1 {color: black;background-color: white;}#sk-container-id-1 pre{padding: 0;}#sk-container-id-1 div.sk-toggleable {background-color: white;}#sk-container-id-1 label.sk-toggleable__label {cursor: pointer;display: block;width: 100%;margin-bottom: 0;padding: 0.3em;box-sizing: border-box;text-align: center;}#sk-container-id-1 label.sk-toggleable__label-arrow:before {content: \"▸\";float: left;margin-right: 0.25em;color: #696969;}#sk-container-id-1 label.sk-toggleable__label-arrow:hover:before {color: black;}#sk-container-id-1 div.sk-estimator:hover label.sk-toggleable__label-arrow:before {color: black;}#sk-container-id-1 div.sk-toggleable__content {max-height: 0;max-width: 0;overflow: hidden;text-align: left;background-color: #f0f8ff;}#sk-container-id-1 div.sk-toggleable__content pre {margin: 0.2em;color: black;border-radius: 0.25em;background-color: #f0f8ff;}#sk-container-id-1 input.sk-toggleable__control:checked~div.sk-toggleable__content {max-height: 200px;max-width: 100%;overflow: auto;}#sk-container-id-1 input.sk-toggleable__control:checked~label.sk-toggleable__label-arrow:before {content: \"▾\";}#sk-container-id-1 div.sk-estimator input.sk-toggleable__control:checked~label.sk-toggleable__label {background-color: #d4ebff;}#sk-container-id-1 div.sk-label input.sk-toggleable__control:checked~label.sk-toggleable__label {background-color: #d4ebff;}#sk-container-id-1 input.sk-hidden--visually {border: 0;clip: rect(1px 1px 1px 1px);clip: rect(1px, 1px, 1px, 1px);height: 1px;margin: -1px;overflow: hidden;padding: 0;position: absolute;width: 1px;}#sk-container-id-1 div.sk-estimator {font-family: monospace;background-color: #f0f8ff;border: 1px dotted black;border-radius: 0.25em;box-sizing: border-box;margin-bottom: 0.5em;}#sk-container-id-1 div.sk-estimator:hover {background-color: #d4ebff;}#sk-container-id-1 div.sk-parallel-item::after {content: \"\";width: 100%;border-bottom: 1px solid gray;flex-grow: 1;}#sk-container-id-1 div.sk-label:hover label.sk-toggleable__label {background-color: #d4ebff;}#sk-container-id-1 div.sk-serial::before {content: \"\";position: absolute;border-left: 1px solid gray;box-sizing: border-box;top: 0;bottom: 0;left: 50%;z-index: 0;}#sk-container-id-1 div.sk-serial {display: flex;flex-direction: column;align-items: center;background-color: white;padding-right: 0.2em;padding-left: 0.2em;position: relative;}#sk-container-id-1 div.sk-item {position: relative;z-index: 1;}#sk-container-id-1 div.sk-parallel {display: flex;align-items: stretch;justify-content: center;background-color: white;position: relative;}#sk-container-id-1 div.sk-item::before, #sk-container-id-1 div.sk-parallel-item::before {content: \"\";position: absolute;border-left: 1px solid gray;box-sizing: border-box;top: 0;bottom: 0;left: 50%;z-index: -1;}#sk-container-id-1 div.sk-parallel-item {display: flex;flex-direction: column;z-index: 1;position: relative;background-color: white;}#sk-container-id-1 div.sk-parallel-item:first-child::after {align-self: flex-end;width: 50%;}#sk-container-id-1 div.sk-parallel-item:last-child::after {align-self: flex-start;width: 50%;}#sk-container-id-1 div.sk-parallel-item:only-child::after {width: 0;}#sk-container-id-1 div.sk-dashed-wrapped {border: 1px dashed gray;margin: 0 0.4em 0.5em 0.4em;box-sizing: border-box;padding-bottom: 0.4em;background-color: white;}#sk-container-id-1 div.sk-label label {font-family: monospace;font-weight: bold;display: inline-block;line-height: 1.2em;}#sk-container-id-1 div.sk-label-container {text-align: center;}#sk-container-id-1 div.sk-container {/* jupyter's `normalize.less` sets `[hidden] { display: none; }` but bootstrap.min.css set `[hidden] { display: none !important; }` so we also need the `!important` here to be able to override the default hidden behavior on the sphinx rendered scikit-learn.org. See: https://github.com/scikit-learn/scikit-learn/issues/21755 */display: inline-block !important;position: relative;}#sk-container-id-1 div.sk-text-repr-fallback {display: none;}</style><div id=\"sk-container-id-1\" class=\"sk-top-container\"><div class=\"sk-text-repr-fallback\"><pre>KMeans(n_clusters=5, random_state=42)</pre><b>In a Jupyter environment, please rerun this cell to show the HTML representation or trust the notebook. <br />On GitHub, the HTML representation is unable to render, please try loading this page with nbviewer.org.</b></div><div class=\"sk-container\" hidden><div class=\"sk-item\"><div class=\"sk-estimator sk-toggleable\"><input class=\"sk-toggleable__control sk-hidden--visually\" id=\"sk-estimator-id-1\" type=\"checkbox\" checked><label for=\"sk-estimator-id-1\" class=\"sk-toggleable__label sk-toggleable__label-arrow\">KMeans</label><div class=\"sk-toggleable__content\"><pre>KMeans(n_clusters=5, random_state=42)</pre></div></div></div></div></div>"
      ],
      "text/plain": [
       "KMeans(n_clusters=5, random_state=42)"
      ]
     },
     "execution_count": 27,
     "metadata": {},
     "output_type": "execute_result"
    }
   ],
   "source": [
    "num_clusters = 5\n",
    "kmeans = KMeans(n_clusters=num_clusters, random_state=42)\n",
    "kmeans.fit(X)"
   ]
  },
  {
   "cell_type": "code",
   "execution_count": 28,
   "metadata": {},
   "outputs": [
    {
     "name": "stdout",
     "output_type": "stream",
     "text": [
      "Silhouette Score: 0.0037966887340400513\n"
     ]
    }
   ],
   "source": [
    "silhouette_avg = silhouette_score(X, kmeans.labels_)\n",
    "print(\"Silhouette Score:\", silhouette_avg)"
   ]
  },
  {
   "cell_type": "code",
   "execution_count": 3,
   "metadata": {},
   "outputs": [
    {
     "data": {
      "image/png": "[encoded data removed]",
      "text/plain": [
       "<Figure size 640x480 with 1 Axes>"
      ]
     },
     "metadata": {},
     "output_type": "display_data"
    }
   ],
   "source": [
    "# Perform K-Means clustering for different values of K\n",
    "k_values = range(2, 11)\n",
    "inertia_values = []\n",
    "\n",
    "for k in k_values:\n",
    "    kmeans = KMeans(n_clusters=k, random_state=42)\n",
    "    kmeans.fit(X)\n",
    "    inertia_values.append(kmeans.inertia_)\n",
    "\n",
    "# Plot the inertia values\n",
    "plt.plot(k_values, inertia_values, 'bx-')\n",
    "plt.xlabel('Number of Clusters (K)')\n",
    "plt.ylabel('Inertia')\n",
    "plt.title('Elbow Method')\n",
    "plt.show()"
   ]
  },
  {
   "attachments": {},
   "cell_type": "markdown",
   "metadata": {},
   "source": [
    "        CLUSTERING METHOD 2"
   ]
  },
  {
   "cell_type": "code",
   "execution_count": null,
   "metadata": {},
   "outputs": [
    {
     "name": "stderr",
     "output_type": "stream",
     "text": [
      "/Users/student/anaconda3/lib/python3.9/site-packages/sklearn/cluster/_kmeans.py:870: FutureWarning: The default value of `n_init` will change from 10 to 'auto' in 1.4. Set the value of `n_init` explicitly to suppress the warning\n",
      "  warnings.warn(\n",
      "/Users/student/anaconda3/lib/python3.9/site-packages/sklearn/cluster/_kmeans.py:870: FutureWarning: The default value of `n_init` will change from 10 to 'auto' in 1.4. Set the value of `n_init` explicitly to suppress the warning\n",
      "  warnings.warn(\n",
      "/Users/student/anaconda3/lib/python3.9/site-packages/sklearn/cluster/_kmeans.py:870: FutureWarning: The default value of `n_init` will change from 10 to 'auto' in 1.4. Set the value of `n_init` explicitly to suppress the warning\n",
      "  warnings.warn(\n",
      "/Users/student/anaconda3/lib/python3.9/site-packages/sklearn/cluster/_kmeans.py:870: FutureWarning: The default value of `n_init` will change from 10 to 'auto' in 1.4. Set the value of `n_init` explicitly to suppress the warning\n",
      "  warnings.warn(\n",
      "/Users/student/anaconda3/lib/python3.9/site-packages/sklearn/cluster/_kmeans.py:870: FutureWarning: The default value of `n_init` will change from 10 to 'auto' in 1.4. Set the value of `n_init` explicitly to suppress the warning\n",
      "  warnings.warn(\n",
      "/Users/student/anaconda3/lib/python3.9/site-packages/sklearn/cluster/_kmeans.py:870: FutureWarning: The default value of `n_init` will change from 10 to 'auto' in 1.4. Set the value of `n_init` explicitly to suppress the warning\n",
      "  warnings.warn(\n",
      "/Users/student/anaconda3/lib/python3.9/site-packages/sklearn/cluster/_kmeans.py:870: FutureWarning: The default value of `n_init` will change from 10 to 'auto' in 1.4. Set the value of `n_init` explicitly to suppress the warning\n",
      "  warnings.warn(\n",
      "/Users/student/anaconda3/lib/python3.9/site-packages/sklearn/cluster/_kmeans.py:870: FutureWarning: The default value of `n_init` will change from 10 to 'auto' in 1.4. Set the value of `n_init` explicitly to suppress the warning\n",
      "  warnings.warn(\n",
      "/Users/student/anaconda3/lib/python3.9/site-packages/sklearn/cluster/_kmeans.py:870: FutureWarning: The default value of `n_init` will change from 10 to 'auto' in 1.4. Set the value of `n_init` explicitly to suppress the warning\n",
      "  warnings.warn(\n"
     ]
    },
    {
     "data": {
      "image/png": "[encoded data removed]",
      "text/plain": [
       "<Figure size 1000x500 with 2 Axes>"
      ]
     },
     "metadata": {},
     "output_type": "display_data"
    },
    {
     "name": "stderr",
     "output_type": "stream",
     "text": [
      "/Users/student/anaconda3/lib/python3.9/site-packages/sklearn/cluster/_kmeans.py:870: FutureWarning: The default value of `n_init` will change from 10 to 'auto' in 1.4. Set the value of `n_init` explicitly to suppress the warning\n",
      "  warnings.warn(\n"
     ]
    },
    {
     "name": "stdout",
     "output_type": "stream",
     "text": [
      "Cluster 0:\n",
      "22       @paulgp leverage chatgpt…you will be surprised...\n",
      "150      saved from chatgpt... before it changes writin...\n",
      "166      can you take new ai tech #chatgpt seriously if...\n",
      "194      @shillin_villian yo, have you tried @quickieai...\n",
      "242      @openai using chatgpt feels like you are chatt...\n",
      "                               ...                        \n",
      "49788    @zomato \\ncontent for you ..\\n\\nme: best place...\n",
      "49875    content for you @zomato \\n\\nme: best place to ...\n",
      "49878    @darma15206038 @budgieofdespair @brianferoldi ...\n",
      "49921    @jobartleynz suggest you get chatgpt to write ...\n",
      "49967    @robhope you know you've made it when chatgpt ...\n",
      "Name: Text, Length: 1487, dtype: object\n",
      "\n",
      "Cluster 1:\n",
      "65       @shillin_villian learn chat gpt means learn te...\n",
      "92                 @shillin_villian chat gpt is the future\n",
      "213            @kantrowitz he's being replaced by chat gpt\n",
      "227        @jiei_yushi chat gpt is not that intelligent :p\n",
      "237      @chatgptbot @iivdfo ليه بدون كومنت ؟\\nناقص تقي...\n",
      "                               ...                        \n",
      "49847    @gloomydays1984 به تو علاقه داره 🤗\\nchat gpt ر...\n",
      "49872    @mededdoc @bretweinstein @elonmusk crap attrac...\n",
      "49926    he : chalo sat me assignment karenge romantic ...\n",
      "49945    @ashutosh83b i'd prefer chat gpt writing your ...\n",
      "49978    @getpeid @irenezhao_ seriously bro tbh chat gp...\n",
      "Name: Text, Length: 1075, dtype: object\n",
      "\n",
      "Cluster 2:\n",
      "1        @alexandrovnaing prohibition of chatgpt has be...\n",
      "7        @swengdad there is repetitive work in every jo...\n",
      "23       @frankdeya the anxiety i get when i want to us...\n",
      "33       @samsungindia i asked chatgpt to write a cool ...\n",
      "35       @paulg already most blog are there for seo opt...\n",
      "                               ...                        \n",
      "49950    @barexamtutor we need to set some parameters; ...\n",
      "49952    .@vancityreynolds asked #chatgpt to write a co...\n",
      "49958    @lindyli now why would elon musk want buy twit...\n",
      "49973    @patrickbetdavid chatgpt will never be able to...\n",
      "49995    remember when @twitter was down a lot in the e...\n",
      "Name: Text, Length: 5327, dtype: object\n",
      "\n",
      "Cluster 3:\n",
      "2        schaut euch an, was @fobizz @dianaknodel alles...\n",
      "14       #chatgpt wydaje na operację w chmurze 3 mln do...\n",
      "21       @slipcatch @nickhedley #chatgpt ain’t got no t...\n",
      "41                         @rvcj_fb blame it on chatgpt. 😪\n",
      "50                              @signifigure 用 chatgpt 來解答\n",
      "                               ...                        \n",
      "49988    i joined the @aipadtech x @moonsalecom exclusi...\n",
      "49989    @mahdy_asady @opendrain آقا من از وقتی chatgpt...\n",
      "49991    i joined the @aipadtech x @moonsalecom exclusi...\n",
      "49992    @iamjohnoliver i think chatgpt is taking the p...\n",
      "49997    @r8r ich hab mal die ai dazu befragt (chatgpt)...\n",
      "Name: Text, Length: 7610, dtype: object\n",
      "\n",
      "Cluster 4:\n",
      "17       google presenta sparrow, su inteligencia artif...\n",
      "63       @docshadok chatgpt estime que c’est possible. ...\n",
      "74       @diogocortiz no limite, o chatgpt é um autocom...\n",
      "162      @veskii_ le c de ta pp sur chatgpt, je suis sû...\n",
      "164      @mferres la #revolució que significa #chatgpt ...\n",
      "                               ...                        \n",
      "49934    @aboutmirela assustador é por o seu resultado ...\n",
      "49940    @xataka 5 cosas que puedes hacer  en chatgpt \\...\n",
      "49957    @thexxlman les comparto estas cosas que se pue...\n",
      "49970    @jamartinezq @ilanchester1 les comparto estas ...\n",
      "49994    @fedemoctezuma 5 cosas que puedes hacer  con c...\n",
      "Name: Text, Length: 1433, dtype: object\n",
      "\n",
      "Average Silhouette Score: 0.004\n"
     ]
    }
   ],
   "source": [
    "import pandas as pd\n",
    "from sklearn.feature_extraction.text import TfidfVectorizer\n",
    "from sklearn.cluster import KMeans\n",
    "from sklearn.metrics import silhouette_score\n",
    "import matplotlib.pyplot as plt\n",
    "\n",
    "# Load the dataset into a pandas DataFrame\n",
    "data_path = \"dataset1.csv\"\n",
    "df = pd.read_csv(data_path)\n",
    "\n",
    "# Drop irrelevant columns\n",
    "df = df[['Text', 'Language', 'hashtag', 'MentionedUsers']]\n",
    "\n",
    "# Perform data cleaning and preprocessing\n",
    "\n",
    "# Remove rows with missing values\n",
    "df = df.dropna()\n",
    "\n",
    "# Remove duplicate tweets\n",
    "df = df.drop_duplicates(subset='Text')\n",
    "\n",
    "# Text preprocessing (you can add more steps based on your requirements)\n",
    "df['Text'] = df['Text'].str.lower()  # Convert text to lowercase\n",
    "\n",
    "# Define the feature set\n",
    "features = df['Text']\n",
    "\n",
    "# Vectorize the text data using TF-IDF\n",
    "vectorizer = TfidfVectorizer()\n",
    "X = vectorizer.fit_transform(features)\n",
    "\n",
    "# Determine the optimal number of clusters using the elbow method\n",
    "inertia = []\n",
    "silhouette = []\n",
    "max_clusters = 10  # Maximum number of clusters to try\n",
    "\n",
    "for n_clusters in range(2, max_clusters+1):\n",
    "    kmeans = KMeans(n_clusters=n_clusters, random_state=42)\n",
    "    kmeans.fit(X)\n",
    "    inertia.append(kmeans.inertia_)\n",
    "    silhouette.append(silhouette_score(X, kmeans.labels_))\n",
    "\n",
    "# Plotting the elbow method\n",
    "plt.figure(figsize=(10, 5))\n",
    "plt.subplot(1, 2, 1)\n",
    "plt.plot(range(2, max_clusters+1), inertia, marker='o')\n",
    "plt.xlabel('Number of Clusters')\n",
    "plt.ylabel('Inertia')\n",
    "plt.title('Elbow Method')\n",
    "\n",
    "plt.subplot(1, 2, 2)\n",
    "plt.plot(range(2, max_clusters+1), silhouette, marker='o')\n",
    "plt.xlabel('Number of Clusters')\n",
    "plt.ylabel('Silhouette Score')\n",
    "plt.title('Silhouette Score')\n",
    "\n",
    "plt.tight_layout()\n",
    "plt.show()\n",
    "\n",
    "# Based on the elbow method and silhouette score, choose the optimal number of clusters\n",
    "n_clusters = 5  # Adjust this value based on the plot and your judgment\n",
    "\n",
    "# Perform K-Means clustering\n",
    "kmeans = KMeans(n_clusters=n_clusters, random_state=42)\n",
    "kmeans.fit(X)\n",
    "\n",
    "# Add the cluster labels to the DataFrame\n",
    "df['Cluster'] = kmeans.labels_\n",
    "\n",
    "# Display the clusters and their corresponding tweets\n",
    "for cluster in range(n_clusters):\n",
    "    print(f\"Cluster {cluster}:\")\n",
    "    print(df[df['Cluster'] == cluster]['Text'])\n",
    "    print()\n",
    "\n",
    "# Evaluate the clustering algorithm (silhouette score)\n",
    "silhouette_avg = silhouette_score(X, kmeans.labels_)\n",
    "print(f\"Average Silhouette Score: {silhouette_avg:.3f}\")"
   ]
  },
  {
   "attachments": {},
   "cell_type": "markdown",
   "metadata": {},
   "source": [
    "\n",
    "        QUESTION 4 - ENGAGEMENT PREDICTION"
   ]
  },
  {
   "cell_type": "code",
   "execution_count": 31,
   "metadata": {},
   "outputs": [],
   "source": [
    "from sklearn.ensemble import RandomForestRegressor\n",
    "from sklearn.naive_bayes import MultinomialNB\n",
    "from sklearn.metrics import accuracy_score\n",
    "import matplotlib.pyplot as plt"
   ]
  },
  {
   "cell_type": "code",
   "execution_count": null,
   "metadata": {},
   "outputs": [],
   "source": [
    "import pandas as pd\n",
    "df = pd.read_csv(\"dataset1.csv\")\n",
    "X = df[['Text', 'Language']]\n",
    "y_retweets = df['RetweetCount']\n",
    "y_likes = df['LikeCount']\n",
    "y_replies = df['ReplyCount']"
   ]
  },
  {
   "cell_type": "code",
   "execution_count": 33,
   "metadata": {},
   "outputs": [],
   "source": [
    "from sklearn.model_selection import train_test_split\n",
    "\n",
    "# Split the data into training and testing sets for engagement prediction\n",
    "X_train, X_test, y_retweets_train, y_retweets_test = train_test_split(X, y_retweets, test_size=0.2, random_state=42)\n",
    "X_train, X_test, y_likes_train, y_likes_test = train_test_split(X, y_likes, test_size=0.2, random_state=42)\n",
    "X_train, X_test, y_replies_train, y_replies_test = train_test_split(X, y_replies, test_size=0.2, random_state=42)"
   ]
  },
  {
   "cell_type": "code",
   "execution_count": 34,
   "metadata": {},
   "outputs": [],
   "source": [
    "import numpy as np\n",
    "from sklearn.feature_extraction.text import TfidfVectorizer\n",
    "\n",
    "from sklearn.feature_extraction.text import CountVectorizer\n",
    "\n",
    "vectorizer = CountVectorizer()\n",
    "X_train_vectorized = vectorizer.fit_transform(X_train)\n",
    "X_test_vectorized = vectorizer.transform(X_test)\n",
    "\n",
    "X_train_text_vectorized = vectorizer.transform(X_train['Text'])\n",
    "X_test_text_vectorized = vectorizer.transform(X_test['Text'])\n",
    "\n",
    "X_train_combined = np.hstack((X_train_text_vectorized.toarray(), X_train['Language'].values.reshape(-1, 1)))\n",
    "X_test_combined = np.hstack((X_test_text_vectorized.toarray(), X_test['Language'].values.reshape(-1, 1)))"
   ]
  },
  {
   "cell_type": "code",
   "execution_count": 35,
   "metadata": {},
   "outputs": [
    {
     "name": "stderr",
     "output_type": "stream",
     "text": [
      "/Users/student/anaconda3/lib/python3.9/site-packages/sklearn/preprocessing/_encoders.py:868: FutureWarning: `sparse` was renamed to `sparse_output` in version 1.2 and will be removed in 1.4. `sparse_output` is ignored unless you leave `sparse` to its default value.\n",
      "  warnings.warn(\n"
     ]
    }
   ],
   "source": [
    "from sklearn.feature_extraction.text import TfidfVectorizer\n",
    "from sklearn.preprocessing import OneHotEncoder\n",
    "\n",
    "# Vectorize the text data using TF-IDF vectorizer\n",
    "vectorizer = TfidfVectorizer()\n",
    "X_train_text_vectorized = vectorizer.fit_transform(X_train['Text'])\n",
    "X_test_text_vectorized = vectorizer.transform(X_test['Text'])\n",
    "\n",
    "# Perform one-hot encoding on the 'Language' column\n",
    "encoder = OneHotEncoder(sparse=False, handle_unknown='ignore')\n",
    "X_train_language_encoded = encoder.fit_transform(X_train['Language'].values.reshape(-1, 1))\n",
    "X_test_language_encoded = encoder.transform(X_test['Language'].values.reshape(-1, 1))\n",
    "\n",
    "# Combine the vectorized text data with the encoded 'Language' column\n",
    "X_train_combined = np.hstack((X_train_text_vectorized.toarray(), X_train_language_encoded))\n",
    "X_test_combined = np.hstack((X_test_text_vectorized.toarray(), X_test_language_encoded))"
   ]
  },
  {
   "cell_type": "code",
   "execution_count": 36,
   "metadata": {},
   "outputs": [
    {
     "name": "stdout",
     "output_type": "stream",
     "text": [
      "Accuracy:  0.5428457154284572\n"
     ]
    }
   ],
   "source": [
    "# USING NAIVE BAYES\n",
    "\n",
    "nb_classifier = MultinomialNB()\n",
    "\n",
    "nb_classifier.fit(X_train_combined, y_likes_train)\n",
    "y_likes_pred = nb_classifier.predict(X_test_combined)\n",
    "likes_accuracy = accuracy_score(y_likes_test, y_likes_pred.round())\n",
    "print(\"Accuracy: \", likes_accuracy)"
   ]
  },
  {
   "cell_type": "code",
   "execution_count": null,
   "metadata": {},
   "outputs": [],
   "source": [
    "# USING RANDOM FORSEST FOR PREDICTING NO. OF TWEETS\n",
    "\n",
    "rf_regressor = RandomForestRegressor(random_state=42)\n",
    "rf_regressor.fit(X_train_combined, y_retweets_train)\n",
    "y_retweets_pred = rf_regressor.predict(X_test_combined)\n",
    "retweets_accuracy = accuracy_score(y_retweets_test, y_retweets_pred.round())\n",
    "print(\"Random Forest Accuracy (Retweets):\", retweets_accuracy)"
   ]
  },
  {
   "attachments": {},
   "cell_type": "markdown",
   "metadata": {},
   "source": [
    "        QUESTION 5 - HASHTAG ANALYSIS"
   ]
  },
  {
   "cell_type": "code",
   "execution_count": null,
   "metadata": {},
   "outputs": [],
   "source": [
    "import pandas as pd\n",
    "dataset_path = \"dataset1.csv\"\n",
    "df = pd.read_csv(dataset_path)\n",
    "\n",
    "df = df[['Text', 'hashtag', 'hastag_counts']].copy()"
   ]
  },
  {
   "cell_type": "code",
   "execution_count": null,
   "metadata": {},
   "outputs": [],
   "source": [
    "from sklearn.model_selection import train_test_split\n",
    "\n",
    "# Define the feature set (X) and target variable (y)\n",
    "X = df['Text']\n",
    "y = df['hashtag']\n",
    "\n",
    "# Split the dataset into training and testing sets\n",
    "X_train, X_test, y_train, y_test = train_test_split(X, y, test_size=0.2, random_state=42)"
   ]
  },
  {
   "cell_type": "code",
   "execution_count": 3,
   "metadata": {},
   "outputs": [],
   "source": [
    "from sklearn.feature_extraction.text import CountVectorizer\n",
    "from sklearn.feature_extraction.text import TfidfVectorizer\n",
    "\n",
    "# Use Bag-of-Words\n",
    "vectorizer = CountVectorizer()\n",
    "X_train_vectorized = vectorizer.fit_transform(X_train)\n",
    "X_test_vectorized = vectorizer.transform(X_test)\n"
   ]
  },
  {
   "cell_type": "code",
   "execution_count": null,
   "metadata": {},
   "outputs": [],
   "source": [
    "from sklearn.cluster import KMeans\n",
    "\n",
    "# Apply K-Means clustering\n",
    "kmeans = KMeans(n_clusters=3, random_state=42)\n",
    "kmeans.fit(X_train_vectorized)\n",
    "\n",
    "# Get the predicted cluster labels for the testing set\n",
    "predicted_clusters = kmeans.predict(X_test_vectorized)"
   ]
  },
  {
   "cell_type": "code",
   "execution_count": 5,
   "metadata": {},
   "outputs": [],
   "source": [
    "from sklearn.naive_bayes import MultinomialNB\n",
    "\n",
    "# Apply Naive Bayes classification\n",
    "naive_bayes = MultinomialNB()\n",
    "naive_bayes.fit(X_train_vectorized, y_train)\n",
    "\n",
    "# Get the predicted hashtags for the testing set\n",
    "predicted_hashtags = naive_bayes.predict(X_test_vectorized)"
   ]
  },
  {
   "cell_type": "code",
   "execution_count": null,
   "metadata": {},
   "outputs": [],
   "source": [
    "from sklearn.metrics import classification_report, accuracy_score\n",
    "from sklearn.naive_bayes import MultinomialNB\n",
    "\n",
    "# Apply Naive Bayes classification\n",
    "naive_bayes = MultinomialNB()\n",
    "naive_bayes.fit(X_train_vectorized, y_train)\n",
    "\n",
    "# Get the predicted hashtags for the testing set\n",
    "predicted_hashtags = naive_bayes.predict(X_test_vectorized)\n",
    "\n",
    "# Calculate accuracy\n",
    "accuracy = accuracy_score(y_test, predicted_hashtags)\n",
    "print(\"Accuracy:\", accuracy)\n",
    "\n",
    "# Generate classification report\n",
    "classification_report = classification_report(y_test, predicted_hashtags)\n",
    "print(\"Classification Report:\")\n",
    "print(classification_report)"
   ]
  },
  {
   "attachments": {},
   "cell_type": "markdown",
   "metadata": {},
   "source": [
    "        QUESTION 1 - SENTIMENT ANALYSIS"
   ]
  },
  {
   "cell_type": "code",
   "execution_count": null,
   "metadata": {},
   "outputs": [],
   "source": [
    "import pandas as pd\n",
    "\n",
    "# Load the dataset into a DataFrame\n",
    "df = pd.read_csv('dataset1.csv')\n",
    "\n",
    "# Perform data cleaning and pre-processing if required\n",
    "# You can handle missing values, remove unnecessary columns, etc.\n",
    "# For sentiment analysis, we'll focus on 'Text' and 'Language' columns, so you can drop the rest if they are not needed\n",
    "df = df[['Text', 'Language']]"
   ]
  },
  {
   "cell_type": "code",
   "execution_count": 10,
   "metadata": {},
   "outputs": [],
   "source": [
    "from sklearn.model_selection import train_test_split\n",
    "\n",
    "# Split the dataset into training and testing sets (80% training, 20% testing)\n",
    "train_df, test_df = train_test_split(df, test_size=0.2, random_state=42)"
   ]
  },
  {
   "cell_type": "code",
   "execution_count": 11,
   "metadata": {},
   "outputs": [],
   "source": [
    "# Define the feature set (X) and target variable (y)\n",
    "X_train = train_df['Text']\n",
    "y_train = train_df['Language']\n",
    "\n",
    "X_test = test_df['Text']\n",
    "y_test = test_df['Language']"
   ]
  },
  {
   "cell_type": "code",
   "execution_count": 12,
   "metadata": {},
   "outputs": [],
   "source": [
    "from sklearn.feature_extraction.text import TfidfVectorizer\n",
    "\n",
    "# Initialize the TF-IDF vectorizer\n",
    "vectorizer = TfidfVectorizer()\n",
    "\n",
    "# Fit and transform the training data\n",
    "X_train_vectorized = vectorizer.fit_transform(X_train)\n",
    "\n",
    "# Transform the testing data\n",
    "X_test_vectorized = vectorizer.transform(X_test)"
   ]
  },
  {
   "cell_type": "code",
   "execution_count": null,
   "metadata": {},
   "outputs": [],
   "source": [
    "import pandas as pd\n",
    "from sklearn.model_selection import train_test_split\n",
    "from sklearn.feature_extraction.text import TfidfVectorizer\n",
    "from sklearn.ensemble import RandomForestClassifier\n",
    "from sklearn.metrics import classification_report, accuracy_score\n",
    "\n",
    "# Step 1: Loading the Dataset and Data Cleaning\n",
    "df = pd.read_csv('dataset1.csv')\n",
    "df = df[['Text', 'Language']]\n",
    "\n",
    "# Step 2: Splitting the Dataset\n",
    "train_df, test_df = train_test_split(df, test_size=0.2, random_state=42)\n",
    "\n",
    "# Step 3: Defining the Feature Set and Target Variable\n",
    "X_train = train_df['Text']\n",
    "y_train = train_df['Language']\n",
    "\n",
    "X_test = test_df['Text']\n",
    "y_test = test_df['Language']\n",
    "\n",
    "# Step 4: Vectorizing the Text Data\n",
    "vectorizer = TfidfVectorizer()\n",
    "X_train_vectorized = vectorizer.fit_transform(X_train)\n",
    "X_test_vectorized = vectorizer.transform(X_test)\n",
    "\n",
    "# Step 5: Building and Training the Model\n",
    "rf_classifier = RandomForestClassifier()\n",
    "rf_classifier.fit(X_train_vectorized, y_train)\n",
    "\n",
    "# Step 6: Making Predictions on the Test Set\n",
    "y_pred = rf_classifier.predict(X_test_vectorized)\n",
    "\n",
    "# Step 7: Evaluating the Model\n",
    "accuracy = accuracy_score(y_test, y_pred)\n",
    "classification_rep = classification_report(y_test, y_pred)\n",
    "\n",
    "print(f\"Accuracy: {accuracy}\")\n",
    "print(f\"\\nClassification Report:\\n{classification_rep}\")"
   ]
  },
  {
   "cell_type": "code",
   "execution_count": null,
   "metadata": {},
   "outputs": [],
   "source": [
    "import pandas as pd\n",
    "from sklearn.model_selection import train_test_split\n",
    "from sklearn.feature_extraction.text import TfidfVectorizer\n",
    "from sklearn.ensemble import RandomForestClassifier\n",
    "from sklearn.metrics import classification_report, accuracy_score\n",
    "\n",
    "# Step 1: Loading the Dataset and Data Cleaning\n",
    "df = pd.read_csv('dataset1.csv')\n",
    "df = df[['Text', 'Language']]\n",
    "\n",
    "# Step 2: Splitting the Dataset\n",
    "train_df, test_df = train_test_split(df, test_size=0.2, random_state=42)\n",
    "\n",
    "# Step 3: Defining the Feature Set and Target Variable\n",
    "X_train = train_df['Text']\n",
    "y_train = train_df['Language']\n",
    "\n",
    "X_test = test_df['Text']\n",
    "y_test = test_df['Language']\n",
    "\n",
    "# Step 4: Vectorizing the Text Data\n",
    "vectorizer = TfidfVectorizer()\n",
    "X_train_vectorized = vectorizer.fit_transform(X_train)\n",
    "X_test_vectorized = vectorizer.transform(X_test)\n",
    "\n",
    "# Step 5: Building and Training the Model\n",
    "rf_classifier = RandomForestClassifier()\n",
    "rf_classifier.fit(X_train_vectorized, y_train)\n",
    "\n",
    "# Step 6: Making Predictions on the Test Set\n",
    "y_pred = rf_classifier.predict(X_test_vectorized)\n",
    "\n",
    "# Step 7: Evaluating the Model\n",
    "accuracy = accuracy_score(y_test, y_pred)\n",
    "classification_rep = classification_report(y_test, y_pred)\n",
    "\n",
    "print(f\"Accuracy: {accuracy}\")\n",
    "print(f\"\\nClassification Report:\\n{classification_rep}\")\n",
    "\n",
    "# Sentiment Prediction for User Input\n",
    "user_input = input(\"Enter a statement: \")\n",
    "user_input_vectorized = vectorizer.transform([user_input])\n",
    "sentiment_prediction = rf_classifier.predict(user_input_vectorized)\n",
    "\n",
    "print(f\"Sentiment Prediction: {sentiment_prediction[0]}\")"
   ]
  },
  {
   "attachments": {},
   "cell_type": "markdown",
   "metadata": {},
   "source": [
    "        QUESTION 1 - METHOD 2 (NOT WORKING)"
   ]
  },
  {
   "cell_type": "code",
   "execution_count": null,
   "metadata": {},
   "outputs": [],
   "source": [
    "import pandas as pd\n",
    "from sklearn.model_selection import train_test_split\n",
    "from sklearn.feature_extraction.text import TfidfVectorizer\n",
    "from sklearn.ensemble import RandomForestClassifier\n",
    "from sklearn.metrics import classification_report\n",
    "\n",
    "# Load the dataset into a pandas DataFrame\n",
    "data = pd.read_csv('dataset1.csv')\n",
    "\n",
    "# Drop rows with missing values in the 'Language' column\n",
    "data = data.dropna(subset=['Language'])\n",
    "\n",
    "# Replace any remaining missing values in the target variable column\n",
    "data['Language'].fillna('unknown', inplace=True)\n",
    "\n",
    "# Split the dataset into a training set and a testing set\n",
    "X = data['Text']  # Feature set\n",
    "y = data['Language']  # Target variable\n",
    "\n",
    "X_train, X_test, y_train, y_test = train_test_split(X, y, test_size=0.2, random_state=42)\n",
    "\n",
    "# Vectorize the text data using TF-IDF (Term Frequency-Inverse Document Frequency)\n",
    "vectorizer = TfidfVectorizer()\n",
    "X_train_vectorized = vectorizer.fit_transform(X_train)\n",
    "X_test_vectorized = vectorizer.transform(X_test)\n",
    "\n",
    "# Convert sentiment labels to numerical values\n",
    "sentiment_mapping = {'positive': 1, 'negative': -1, 'neutral': 0, 'unknown': 2}\n",
    "y_train_numeric = y_train.map(sentiment_mapping)\n",
    "y_test_numeric = y_test.map(sentiment_mapping)\n",
    "\n",
    "# Train a Random Forest classifier on the training data\n",
    "classifier = RandomForestClassifier()\n",
    "classifier.fit(X_train_vectorized, y_train_numeric)\n",
    "\n",
    "# Predict the sentiment of tweets and evaluate the model\n",
    "y_pred = classifier.predict(X_test_vectorized)\n",
    "report = classification_report(y_test_numeric, y_pred)\n",
    "print(report)\n",
    "\n",
    "# Predict the probability of positive, negative, and neutral tweets\n",
    "y_pred_proba = classifier.predict_proba(X_test_vectorized)\n",
    "\n",
    "# Correlate the predicted probabilities using a plot or other visualization methods\n",
    "\n",
    "# Define a function to predict sentiment based on user input\n",
    "def predict_sentiment(statement):\n",
    "    statement_vectorized = vectorizer.transform([statement])\n",
    "    sentiment_mapping_inverse = {v: k for k, v in sentiment_mapping.items()}\n",
    "    sentiment = sentiment_mapping_inverse[classifier.predict(statement_vectorized)[0]]\n",
    "    return sentiment\n",
    "\n",
    "# Test the predict_sentiment function\n",
    "user_input = input(\"Enter a statement: \")\n",
    "prediction = predict_sentiment(user_input)\n",
    "print(\"Predicted sentiment:\", prediction)"
   ]
  },
  {
   "attachments": {},
   "cell_type": "markdown",
   "metadata": {},
   "source": [
    "        QUESTION 1 - METHOD 3 (GIVEN IN PAPER)"
   ]
  },
  {
   "cell_type": "code",
   "execution_count": 18,
   "metadata": {},
   "outputs": [
    {
     "name": "stderr",
     "output_type": "stream",
     "text": [
      "[nltk_data] Downloading package vader_lexicon to\n",
      "[nltk_data]     /Users/student/nltk_data...\n",
      "[nltk_data]   Package vader_lexicon is already up-to-date!\n",
      "/var/folders/j_/pkfzpv5x4xv9mb1gxwdtxsrr0000gn/T/ipykernel_1510/4255330702.py:16: FutureWarning: The default value of regex will change from True to False in a future version.\n",
      "  df['Text'] = df['Text'].str.replace('[^\\w\\s]', '')  # Remove punctuation\n"
     ]
    },
    {
     "name": "stdout",
     "output_type": "stream",
     "text": [
      "              precision    recall  f1-score   support\n",
      "\n",
      "          ar       1.00      0.52      0.69        82\n",
      "          bn       0.00      0.00      0.00         1\n",
      "          ca       0.00      0.00      0.00        29\n",
      "          cs       0.00      0.00      0.00         8\n",
      "          cy       0.00      0.00      0.00        16\n",
      "          da       0.00      0.00      0.00        10\n",
      "          de       1.00      0.85      0.92       234\n",
      "          el       0.00      0.00      0.00        11\n",
      "          en       0.79      1.00      0.88      6428\n",
      "          es       0.92      0.96      0.94       666\n",
      "          et       0.00      0.00      0.00         4\n",
      "          fa       1.00      0.55      0.71        29\n",
      "          fi       0.00      0.00      0.00        17\n",
      "          fr       0.99      0.89      0.94       491\n",
      "          hi       0.00      0.00      0.00        13\n",
      "          ht       0.00      0.00      0.00         4\n",
      "          hu       0.00      0.00      0.00         4\n",
      "          in       0.00      0.00      0.00        48\n",
      "          it       1.00      0.36      0.53        99\n",
      "          iw       1.00      0.03      0.06        31\n",
      "          ja       0.90      0.18      0.30       989\n",
      "          ko       0.00      0.00      0.00        27\n",
      "          lt       0.00      0.00      0.00         1\n",
      "          lv       0.00      0.00      0.00         6\n",
      "          ml       0.00      0.00      0.00         1\n",
      "          mr       0.00      0.00      0.00         3\n",
      "          ne       0.00      0.00      0.00         3\n",
      "          nl       1.00      0.32      0.48        66\n",
      "          no       0.00      0.00      0.00         6\n",
      "          pa       0.00      0.00      0.00         4\n",
      "          pl       0.00      0.00      0.00        22\n",
      "          pt       1.00      0.70      0.83       232\n",
      "         qam       0.00      0.00      0.00         3\n",
      "         qht       0.00      0.00      0.00        16\n",
      "         qme       0.00      0.00      0.00        78\n",
      "          ro       0.00      0.00      0.00         9\n",
      "          ru       0.00      0.00      0.00        32\n",
      "          sl       0.00      0.00      0.00         3\n",
      "          sv       0.00      0.00      0.00        14\n",
      "          ta       0.00      0.00      0.00         1\n",
      "          th       0.00      0.00      0.00        43\n",
      "          tl       0.00      0.00      0.00        10\n",
      "          tr       1.00      0.34      0.50        89\n",
      "          uk       0.00      0.00      0.00         8\n",
      "         und       0.00      0.00      0.00        74\n",
      "          ur       0.00      0.00      0.00         3\n",
      "          vi       0.00      0.00      0.00         2\n",
      "          zh       0.00      0.00      0.00        27\n",
      "         zxx       0.00      0.00      0.00         4\n",
      "\n",
      "    accuracy                           0.82     10001\n",
      "   macro avg       0.24      0.14      0.16     10001\n",
      "weighted avg       0.79      0.82      0.77     10001\n",
      "\n"
     ]
    },
    {
     "name": "stderr",
     "output_type": "stream",
     "text": [
      "/Users/student/anaconda3/lib/python3.9/site-packages/sklearn/metrics/_classification.py:1344: UndefinedMetricWarning: Precision and F-score are ill-defined and being set to 0.0 in labels with no predicted samples. Use `zero_division` parameter to control this behavior.\n",
      "  _warn_prf(average, modifier, msg_start, len(result))\n",
      "/Users/student/anaconda3/lib/python3.9/site-packages/sklearn/metrics/_classification.py:1344: UndefinedMetricWarning: Precision and F-score are ill-defined and being set to 0.0 in labels with no predicted samples. Use `zero_division` parameter to control this behavior.\n",
      "  _warn_prf(average, modifier, msg_start, len(result))\n",
      "/Users/student/anaconda3/lib/python3.9/site-packages/sklearn/metrics/_classification.py:1344: UndefinedMetricWarning: Precision and F-score are ill-defined and being set to 0.0 in labels with no predicted samples. Use `zero_division` parameter to control this behavior.\n",
      "  _warn_prf(average, modifier, msg_start, len(result))\n"
     ]
    }
   ],
   "source": [
    "import pandas as pd\n",
    "from sklearn.model_selection import train_test_split\n",
    "from sklearn.feature_extraction.text import TfidfVectorizer\n",
    "from sklearn.naive_bayes import MultinomialNB\n",
    "from sklearn.metrics import classification_report\n",
    "from sklearn.preprocessing import LabelEncoder\n",
    "import nltk\n",
    "from nltk.sentiment.vader import SentimentIntensityAnalyzer\n",
    "\n",
    "# Download NLTK resources (if not already downloaded)\n",
    "nltk.download('vader_lexicon')\n",
    "\n",
    "\n",
    "# Data cleaning and preprocessing\n",
    "df['Text'] = df['Text'].str.lower()  # Convert text to lowercase\n",
    "df['Text'] = df['Text'].str.replace('[^\\w\\s]', '')  # Remove punctuation\n",
    "df = df[['Text', 'Language']].dropna()  # Keep only relevant columns and drop rows with missing values\n",
    "\n",
    "# Sentiment analysis using NLTK's SentimentIntensityAnalyzer\n",
    "sid = SentimentIntensityAnalyzer()\n",
    "\n",
    "def get_sentiment(text):\n",
    "    sentiment_scores = sid.polarity_scores(text)\n",
    "    if sentiment_scores['compound'] > 0:\n",
    "        return 'positive'\n",
    "    elif sentiment_scores['compound'] < 0:\n",
    "        return 'negative'\n",
    "    else:\n",
    "        return 'neutral'\n",
    "\n",
    "df['Sentiment'] = df['Text'].apply(get_sentiment)\n",
    "\n",
    "# Combine the text and target variables\n",
    "X = df['Text']\n",
    "y = df['Language']\n",
    "\n",
    "# Split the dataset into a training set and a testing set\n",
    "X_train, X_test, y_train, y_test = train_test_split(X, y, test_size=0.2, random_state=42)\n",
    "\n",
    "# Combine the training and test sets for label encoding\n",
    "combined_labels = pd.concat([y_train, y_test])\n",
    "le = LabelEncoder()\n",
    "combined_labels_encoded = le.fit_transform(combined_labels)\n",
    "\n",
    "# Split the label-encoded data back into training and test sets\n",
    "y_train_encoded = combined_labels_encoded[:len(y_train)]\n",
    "y_test_encoded = combined_labels_encoded[len(y_train):]\n",
    "\n",
    "# Vectorize the text data using TfidfVectorizer\n",
    "tfidf = TfidfVectorizer()\n",
    "X_train_tfidf = tfidf.fit_transform(X_train)\n",
    "X_test_tfidf = tfidf.transform(X_test)\n",
    "\n",
    "# Train a Naive Bayes classifier\n",
    "nb_classifier = MultinomialNB()\n",
    "nb_classifier.fit(X_train_tfidf, y_train_encoded)\n",
    "\n",
    "# Make predictions on the testing set\n",
    "predictions = nb_classifier.predict(X_test_tfidf)\n",
    "\n",
    "# Decode the predictions\n",
    "predictions_decoded = le.inverse_transform(predictions)\n",
    "\n",
    "# Evaluate the model\n",
    "print(classification_report(y_test, predictions_decoded))"
   ]
  },
  {
   "cell_type": "markdown",
   "metadata": {},
   "source": [
    "---"
   ]
  }
 ],
 "metadata": {
  "kernelspec": {
   "display_name": "base",
   "language": "python",
   "name": "python3"
  },
  "language_info": {
   "codemirror_mode": {
    "name": "ipython",
    "version": 3
   },
   "file_extension": ".py",
   "mimetype": "text/x-python",
   "name": "python",
   "nbconvert_exporter": "python",
   "pygments_lexer": "ipython3",
   "version": "3.9.16"
  },
  "orig_nbformat": 4,
  "vscode": {
   "interpreter": {
    "hash": "18f22b3c248abf75a3a5e17b2e4b5549e05387a57d79c3bd353676f33cb7778d"
   }
  }
 },
 "nbformat": 4,
 "nbformat_minor": 2
}
