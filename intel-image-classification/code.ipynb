{
 "cells": [
  {
   "cell_type": "markdown",
   "metadata": {},
   "source": [
    "    Classification using CNN "
   ]
  },
  {
   "cell_type": "markdown",
   "metadata": {},
   "source": [
    "- Loading libraries"
   ]
  },
  {
   "cell_type": "code",
   "execution_count": 1,
   "metadata": {},
   "outputs": [],
   "source": [
    "import numpy as np\n",
    "import pandas as pd\n",
    "import matplotlib.pyplot as plt\n",
    "from matplotlib.image import imread\n",
    "import cv2\n",
    "import random\n",
    "import os\n",
    "from os import listdir\n",
    "from PIL import Image\n",
    "from sklearn.preprocessing import label_binarize\n",
    "from tensorflow.keras.preprocessing.image import img_to_array\n",
    "from keras.optimizers import Adam\n",
    "from keras.models import Sequential\n",
    "from keras.layers import Conv2D, MaxPooling2D\n",
    "from keras.layers import Activation, Flatten, Dropout, Dense\n",
    "from sklearn.model_selection import train_test_split\n",
    "from keras.utils import to_categorical"
   ]
  },
  {
   "cell_type": "markdown",
   "metadata": {},
   "source": [
    "- image to array conversion:"
   ]
  },
  {
   "cell_type": "code",
   "execution_count": 2,
   "metadata": {},
   "outputs": [],
   "source": [
    "# Function to convert image to array\n",
    "def convert_image_to_array(image_dir):\n",
    "    try:\n",
    "        image = cv2.imread(image_dir)\n",
    "        if image is not None:\n",
    "            image = cv2.resize(image, (256, 256))\n",
    "            return img_to_array(image)\n",
    "        else:\n",
    "            return np.array([])\n",
    "    except Exception as e:\n",
    "        print(f\"Error: {e}\")\n",
    "        return None"
   ]
  },
  {
   "cell_type": "code",
   "execution_count": null,
   "metadata": {},
   "outputs": [],
   "source": [
    "# Directory containing different types of images\n",
    "base_dir = \"Intel Image Dataset\"\n",
    "categories = [\"buildings\", \"forest\", \"glacier\", \"mountain\", \"sea\", \"street\"]"
   ]
  },
  {
   "cell_type": "markdown",
   "metadata": {},
   "source": [
    "- categorization of target variable:"
   ]
  },
  {
   "cell_type": "code",
   "execution_count": 4,
   "metadata": {},
   "outputs": [],
   "source": [
    "image_list, label_list = [], []\n",
    "\n",
    "# Reading and converting images to numpy arrays\n",
    "for category in categories:\n",
    "    path = os.path.join(base_dir, category)\n",
    "    label = categories.index(category)\n",
    "    for file in os.listdir(path):\n",
    "        image_path = os.path.join(path, file)\n",
    "        image_list.append(convert_image_to_array(image_path))\n",
    "        label_list.append(label)"
   ]
  },
  {
   "cell_type": "markdown",
   "metadata": {},
   "source": [
    "- normalization"
   ]
  },
  {
   "cell_type": "code",
   "execution_count": 5,
   "metadata": {},
   "outputs": [],
   "source": [
    "# Converting lists to numpy arrays\n",
    "image_list = np.array(image_list, dtype=np.float16) / 255.0\n",
    "label_list = np.array(label_list)"
   ]
  },
  {
   "cell_type": "markdown",
   "metadata": {},
   "source": [
    "- train-test split"
   ]
  },
  {
   "cell_type": "code",
   "execution_count": 6,
   "metadata": {},
   "outputs": [],
   "source": [
    "# Splitting the data into training and testing sets\n",
    "x_train, x_test, y_train, y_test = train_test_split(image_list, label_list, test_size=0.2, random_state=10)\n",
    "\n",
    "# Converting labels to categorical format\n",
    "y_train = to_categorical(y_train)\n",
    "y_test = to_categorical(y_test)\n"
   ]
  },
  {
   "cell_type": "markdown",
   "metadata": {},
   "source": [
    "- Defining architectue of CNN\n",
    "1) First initialize a sequential model, which is a linear stack of layers.\n",
    "2) Add a convolutional layer to the model with 32 filters, each of size (3, 3), using the ReLU activation function. \n",
    "3) Then add a max pooling layer with a pool size of (3, 3), which reduces the spatial dimensions of the input.\n",
    "4) Add another convolutional layer with 16 filters, each of size (3, 3), using the ReLU activation function.\n",
    "5) Add another max pooling layer with a pool size of (2, 2).\n",
    "6) Flatten the 2D output to a 1D vector, preparing it for the fully connected layers.\n",
    "7) Add a fully connected layer with 8 neurons and uses the ReLU activation function.\n",
    "8) Add a final dense layer using softmax activation function."
   ]
  },
  {
   "cell_type": "code",
   "execution_count": 7,
   "metadata": {},
   "outputs": [
    {
     "name": "stdout",
     "output_type": "stream",
     "text": [
      "Model: \"sequential\"\n",
      "_________________________________________________________________\n",
      " Layer (type)                Output Shape              Param #   \n",
      "=================================================================\n",
      " conv2d (Conv2D)             (None, 256, 256, 32)      896       \n",
      "                                                                 \n",
      " max_pooling2d (MaxPooling2D  (None, 85, 85, 32)       0         \n",
      " )                                                               \n",
      "                                                                 \n",
      " conv2d_1 (Conv2D)           (None, 85, 85, 16)        4624      \n",
      "                                                                 \n",
      " max_pooling2d_1 (MaxPooling  (None, 42, 42, 16)       0         \n",
      " 2D)                                                             \n",
      "                                                                 \n",
      " flatten (Flatten)           (None, 28224)             0         \n",
      "                                                                 \n",
      " dense (Dense)               (None, 8)                 225800    \n",
      "                                                                 \n",
      " dense_1 (Dense)             (None, 6)                 54        \n",
      "                                                                 \n",
      "=================================================================\n",
      "Total params: 231,374\n",
      "Trainable params: 231,374\n",
      "Non-trainable params: 0\n",
      "_________________________________________________________________\n"
     ]
    }
   ],
   "source": [
    "# Model architecture\n",
    "model = Sequential()\n",
    "model.add(Conv2D(32, (3, 3), padding=\"same\", input_shape=(256, 256, 3), activation=\"relu\"))\n",
    "model.add(MaxPooling2D(pool_size=(3, 3)))\n",
    "model.add(Conv2D(16, (3, 3), padding=\"same\", activation=\"relu\"))\n",
    "model.add(MaxPooling2D(pool_size=(2, 2)))\n",
    "model.add(Flatten())\n",
    "model.add(Dense(8, activation=\"relu\"))\n",
    "model.add(Dense(len(categories), activation=\"softmax\"))\n",
    "model.summary()"
   ]
  },
  {
   "cell_type": "markdown",
   "metadata": {},
   "source": [
    "- Compile model with Adam optimizer using learning rate of 0.0001, followed by splitting the training dataset into training and validation sets."
   ]
  },
  {
   "cell_type": "code",
   "execution_count": 8,
   "metadata": {},
   "outputs": [],
   "source": [
    "# Compile the model\n",
    "model.compile(loss='categorical_crossentropy', optimizer=Adam(0.0001), metrics=['accuracy'])\n",
    "\n",
    "# Splitting the training data set into training and validation data sets\n",
    "x_train, x_val, y_train, y_val = train_test_split(x_train, y_train, test_size=0.2)"
   ]
  },
  {
   "cell_type": "markdown",
   "metadata": {},
   "source": [
    "- Train the model for 50 epochs using a batch size of 128:"
   ]
  },
  {
   "cell_type": "code",
   "execution_count": 9,
   "metadata": {},
   "outputs": [
    {
     "name": "stdout",
     "output_type": "stream",
     "text": [
      "Epoch 1/50\n",
      "15/15 [==============================] - 55s 3s/step - loss: 1.7579 - accuracy: 0.2110 - val_loss: 1.6960 - val_accuracy: 0.2937\n",
      "Epoch 2/50\n",
      "15/15 [==============================] - 39s 3s/step - loss: 1.6326 - accuracy: 0.3715 - val_loss: 1.5893 - val_accuracy: 0.3604\n",
      "Epoch 3/50\n",
      "15/15 [==============================] - 37s 2s/step - loss: 1.5299 - accuracy: 0.4127 - val_loss: 1.5226 - val_accuracy: 0.4167\n",
      "Epoch 4/50\n",
      "15/15 [==============================] - 37s 2s/step - loss: 1.4624 - accuracy: 0.4690 - val_loss: 1.4716 - val_accuracy: 0.4125\n",
      "Epoch 5/50\n",
      "15/15 [==============================] - 36s 2s/step - loss: 1.4053 - accuracy: 0.4747 - val_loss: 1.4346 - val_accuracy: 0.4229\n",
      "Epoch 6/50\n",
      "15/15 [==============================] - 39s 3s/step - loss: 1.3631 - accuracy: 0.4919 - val_loss: 1.4170 - val_accuracy: 0.4583\n",
      "Epoch 7/50\n",
      "15/15 [==============================] - 41s 3s/step - loss: 1.3303 - accuracy: 0.5122 - val_loss: 1.4015 - val_accuracy: 0.4271\n",
      "Epoch 8/50\n",
      "15/15 [==============================] - 40s 3s/step - loss: 1.3016 - accuracy: 0.5216 - val_loss: 1.3669 - val_accuracy: 0.4688\n",
      "Epoch 9/50\n",
      "15/15 [==============================] - 40s 3s/step - loss: 1.2747 - accuracy: 0.5409 - val_loss: 1.3543 - val_accuracy: 0.4792\n",
      "Epoch 10/50\n",
      "15/15 [==============================] - 39s 3s/step - loss: 1.2533 - accuracy: 0.5539 - val_loss: 1.3631 - val_accuracy: 0.5083\n",
      "Epoch 11/50\n",
      "15/15 [==============================] - 41s 3s/step - loss: 1.2299 - accuracy: 0.5659 - val_loss: 1.3238 - val_accuracy: 0.5271\n",
      "Epoch 12/50\n",
      "15/15 [==============================] - 41s 3s/step - loss: 1.2085 - accuracy: 0.5800 - val_loss: 1.3179 - val_accuracy: 0.5208\n",
      "Epoch 13/50\n",
      "15/15 [==============================] - 39s 3s/step - loss: 1.1898 - accuracy: 0.5894 - val_loss: 1.2943 - val_accuracy: 0.5333\n",
      "Epoch 14/50\n",
      "15/15 [==============================] - 42s 3s/step - loss: 1.1666 - accuracy: 0.6055 - val_loss: 1.2926 - val_accuracy: 0.5271\n",
      "Epoch 15/50\n",
      "15/15 [==============================] - 38s 3s/step - loss: 1.1519 - accuracy: 0.6024 - val_loss: 1.2853 - val_accuracy: 0.5312\n",
      "Epoch 16/50\n",
      "15/15 [==============================] - 40s 3s/step - loss: 1.1411 - accuracy: 0.6165 - val_loss: 1.2855 - val_accuracy: 0.5396\n",
      "Epoch 17/50\n",
      "15/15 [==============================] - 44s 3s/step - loss: 1.1231 - accuracy: 0.6149 - val_loss: 1.2601 - val_accuracy: 0.5625\n",
      "Epoch 18/50\n",
      "15/15 [==============================] - 42s 3s/step - loss: 1.1120 - accuracy: 0.6253 - val_loss: 1.2656 - val_accuracy: 0.5604\n",
      "Epoch 19/50\n",
      "15/15 [==============================] - 43s 3s/step - loss: 1.0797 - accuracy: 0.6373 - val_loss: 1.2501 - val_accuracy: 0.5667\n",
      "Epoch 20/50\n",
      "15/15 [==============================] - 40s 3s/step - loss: 1.0624 - accuracy: 0.6529 - val_loss: 1.2353 - val_accuracy: 0.5750\n",
      "Epoch 21/50\n",
      "15/15 [==============================] - 41s 3s/step - loss: 1.0490 - accuracy: 0.6576 - val_loss: 1.2530 - val_accuracy: 0.5688\n",
      "Epoch 22/50\n",
      "15/15 [==============================] - 44s 3s/step - loss: 1.0399 - accuracy: 0.6446 - val_loss: 1.2191 - val_accuracy: 0.5875\n",
      "Epoch 23/50\n",
      "15/15 [==============================] - 41s 3s/step - loss: 1.0147 - accuracy: 0.6623 - val_loss: 1.2234 - val_accuracy: 0.5729\n",
      "Epoch 24/50\n",
      "15/15 [==============================] - 42s 3s/step - loss: 0.9936 - accuracy: 0.6826 - val_loss: 1.2220 - val_accuracy: 0.5813\n",
      "Epoch 25/50\n",
      "15/15 [==============================] - 46s 3s/step - loss: 0.9751 - accuracy: 0.6811 - val_loss: 1.2062 - val_accuracy: 0.5771\n",
      "Epoch 26/50\n",
      "15/15 [==============================] - 42s 3s/step - loss: 0.9715 - accuracy: 0.6847 - val_loss: 1.2175 - val_accuracy: 0.5646\n",
      "Epoch 27/50\n",
      "15/15 [==============================] - 43s 3s/step - loss: 0.9521 - accuracy: 0.6842 - val_loss: 1.1910 - val_accuracy: 0.5833\n",
      "Epoch 28/50\n",
      "15/15 [==============================] - 44s 3s/step - loss: 0.9334 - accuracy: 0.6925 - val_loss: 1.1880 - val_accuracy: 0.6167\n",
      "Epoch 29/50\n",
      "15/15 [==============================] - 43s 3s/step - loss: 0.9198 - accuracy: 0.7019 - val_loss: 1.1899 - val_accuracy: 0.6083\n",
      "Epoch 30/50\n",
      "15/15 [==============================] - 42s 3s/step - loss: 0.9012 - accuracy: 0.7051 - val_loss: 1.1834 - val_accuracy: 0.6021\n",
      "Epoch 31/50\n",
      "15/15 [==============================] - 40s 3s/step - loss: 0.8957 - accuracy: 0.6983 - val_loss: 1.1818 - val_accuracy: 0.6167\n",
      "Epoch 32/50\n",
      "15/15 [==============================] - 45s 3s/step - loss: 0.8694 - accuracy: 0.7233 - val_loss: 1.1753 - val_accuracy: 0.6146\n",
      "Epoch 33/50\n",
      "15/15 [==============================] - 45s 3s/step - loss: 0.8610 - accuracy: 0.7181 - val_loss: 1.1890 - val_accuracy: 0.6062\n",
      "Epoch 34/50\n",
      "15/15 [==============================] - 41s 3s/step - loss: 0.8457 - accuracy: 0.7259 - val_loss: 1.1740 - val_accuracy: 0.6083\n",
      "Epoch 35/50\n",
      "15/15 [==============================] - 41s 3s/step - loss: 0.8369 - accuracy: 0.7306 - val_loss: 1.1755 - val_accuracy: 0.6167\n",
      "Epoch 36/50\n",
      "15/15 [==============================] - 40s 3s/step - loss: 0.8188 - accuracy: 0.7400 - val_loss: 1.1745 - val_accuracy: 0.6167\n",
      "Epoch 37/50\n",
      "15/15 [==============================] - 43s 3s/step - loss: 0.7986 - accuracy: 0.7499 - val_loss: 1.1634 - val_accuracy: 0.6333\n",
      "Epoch 38/50\n",
      "15/15 [==============================] - 41s 3s/step - loss: 0.7873 - accuracy: 0.7504 - val_loss: 1.1718 - val_accuracy: 0.6062\n",
      "Epoch 39/50\n",
      "15/15 [==============================] - 43s 3s/step - loss: 0.7764 - accuracy: 0.7540 - val_loss: 1.1603 - val_accuracy: 0.6187\n",
      "Epoch 40/50\n",
      "15/15 [==============================] - 42s 3s/step - loss: 0.7491 - accuracy: 0.7692 - val_loss: 1.1692 - val_accuracy: 0.6271\n",
      "Epoch 41/50\n",
      "15/15 [==============================] - 41s 3s/step - loss: 0.7395 - accuracy: 0.7681 - val_loss: 1.1584 - val_accuracy: 0.6229\n",
      "Epoch 42/50\n",
      "15/15 [==============================] - 43s 3s/step - loss: 0.7266 - accuracy: 0.7801 - val_loss: 1.1761 - val_accuracy: 0.6104\n",
      "Epoch 43/50\n",
      "15/15 [==============================] - 42s 3s/step - loss: 0.7160 - accuracy: 0.7775 - val_loss: 1.1598 - val_accuracy: 0.6396\n",
      "Epoch 44/50\n",
      "15/15 [==============================] - 40s 3s/step - loss: 0.7029 - accuracy: 0.7895 - val_loss: 1.1775 - val_accuracy: 0.6146\n",
      "Epoch 45/50\n",
      "15/15 [==============================] - 41s 3s/step - loss: 0.6857 - accuracy: 0.7968 - val_loss: 1.1597 - val_accuracy: 0.6167\n",
      "Epoch 46/50\n",
      "15/15 [==============================] - 41s 3s/step - loss: 0.6732 - accuracy: 0.8025 - val_loss: 1.1925 - val_accuracy: 0.6229\n",
      "Epoch 47/50\n",
      "15/15 [==============================] - 42s 3s/step - loss: 0.6686 - accuracy: 0.7910 - val_loss: 1.1629 - val_accuracy: 0.6229\n",
      "Epoch 48/50\n",
      "15/15 [==============================] - 40s 3s/step - loss: 0.6470 - accuracy: 0.8114 - val_loss: 1.1687 - val_accuracy: 0.6125\n",
      "Epoch 49/50\n",
      "15/15 [==============================] - 43s 3s/step - loss: 0.6397 - accuracy: 0.8108 - val_loss: 1.1656 - val_accuracy: 0.6333\n",
      "Epoch 50/50\n",
      "15/15 [==============================] - 45s 3s/step - loss: 0.6269 - accuracy: 0.8155 - val_loss: 1.1872 - val_accuracy: 0.6062\n"
     ]
    }
   ],
   "source": [
    "# Training the model\n",
    "epochs = 50\n",
    "batch_size = 128\n",
    "history = model.fit(x_train, y_train, batch_size=batch_size, epochs=epochs,\n",
    "                    validation_data=(x_val, y_val))\n",
    "\n",
    "# Saving the weights of the model\n",
    "model.save_weights('intel_model_weights.h5')"
   ]
  },
  {
   "cell_type": "code",
   "execution_count": 10,
   "metadata": {},
   "outputs": [
    {
     "data": {
      "image/png": "[encoded data removed]",
      "text/plain": [
       "<Figure size 1200x500 with 1 Axes>"
      ]
     },
     "metadata": {},
     "output_type": "display_data"
    }
   ],
   "source": [
    "# Plot the training history\n",
    "plt.figure(figsize=(12, 5))\n",
    "plt.plot(history.history['accuracy'], color='r')\n",
    "plt.plot(history.history['val_accuracy'], color='b')\n",
    "plt.title('Model Accuracy')\n",
    "plt.ylabel('Accuracy')\n",
    "plt.xlabel('Epochs')\n",
    "plt.legend(['train', 'val'])\n",
    "plt.show()"
   ]
  },
  {
   "cell_type": "markdown",
   "metadata": {},
   "source": [
    "- Saving model"
   ]
  },
  {
   "cell_type": "code",
   "execution_count": null,
   "metadata": {},
   "outputs": [],
   "source": [
    "# Save the trained model to the specified directory\n",
    "model_save_path = 'intel_model.h5'\n",
    "model.save(model_save_path)\n",
    "print(f\"Model saved to {model_save_path}\")"
   ]
  },
  {
   "cell_type": "code",
   "execution_count": 12,
   "metadata": {},
   "outputs": [
    {
     "name": "stdout",
     "output_type": "stream",
     "text": [
      "19/19 [==============================] - 4s 185ms/step\n"
     ]
    }
   ],
   "source": [
    "# Make predictions on the test set\n",
    "y_pred = model.predict(x_test)"
   ]
  },
  {
   "cell_type": "markdown",
   "metadata": {},
   "source": [
    "    SVM"
   ]
  },
  {
   "cell_type": "code",
   "execution_count": null,
   "metadata": {},
   "outputs": [],
   "source": [
    "import numpy as np\n",
    "import os\n",
    "from sklearn.model_selection import train_test_split\n",
    "from sklearn.svm import SVC\n",
    "from sklearn.metrics import accuracy_score\n",
    "from sklearn.preprocessing import StandardScaler\n",
    "from sklearn.decomposition import PCA\n",
    "from sklearn.pipeline import make_pipeline\n",
    "from skimage import color, exposure, transform\n",
    "from skimage.io import imread\n",
    "import matplotlib.pyplot as plt\n",
    "\n",
    "# Directory containing different types of images\n",
    "base_dir = \"Intel Image Dataset\"\n",
    "categories = [\"buildings\", \"forest\", \"glacier\", \"mountain\", \"sea\", \"street\"]\n",
    "\n",
    "image_list, label_list = [], []\n",
    "\n",
    "\n",
    "# Reading and converting images to numpy arrays\n",
    "for category in categories:\n",
    "    path = os.path.join(base_dir, category)\n",
    "    label = categories.index(category)\n",
    "    for file in os.listdir(path):\n",
    "        image_path = os.path.join(path, file)\n",
    "        img = imread(image_path, as_gray=True)\n",
    "        img = transform.resize(img, (256, 256), mode='reflect')\n",
    "        feature_vector = extract_feature_vector(img)  # You need to define extract_feature_vector function\n",
    "        image_list.append(feature_vector)\n",
    "        label_list.append(label)\n",
    "\n",
    "# Converting lists to numpy arrays\n",
    "X = np.array(image_list)\n",
    "y = np.array(label_list)\n",
    "\n",
    "# Splitting the data into training and testing sets\n",
    "X_train, X_test, y_train, y_test = train_test_split(X, y, test_size=0.2, random_state=10)\n",
    "\n",
    "# SVM model with PCA for dimensionality reduction\n",
    "svm_model = make_pipeline(StandardScaler(), PCA(n_components=100), SVC(kernel='linear', C=1))\n",
    "\n",
    "# Training the SVM model\n",
    "svm_model.fit(X_train, y_train)\n",
    "\n",
    "# Predictions on the test set\n",
    "y_pred = svm_model.predict(X_test)\n",
    "\n",
    "# Evaluate the model\n",
    "accuracy = accuracy_score(y_test, y_pred)\n",
    "print(f\"SVM Test Accuracy: {accuracy * 100:.2f}%\")"
   ]
  },
  {
   "cell_type": "markdown",
   "metadata": {},
   "source": [
    "     Comparison of performances"
   ]
  },
  {
   "cell_type": "code",
   "execution_count": null,
   "metadata": {},
   "outputs": [],
   "source": [
    "from sklearn.metrics import classification_report, confusion_matrix\n",
    "import seaborn as sns\n",
    "import matplotlib.pyplot as plt\n",
    "\n",
    "# Evaluate CNN model\n",
    "cnn_predictions = np.argmax(model.predict(X_test), axis=1)\n",
    "cnn_accuracy = accuracy_score(y_test, cnn_predictions)\n",
    "print(f\"CNN Test Accuracy: {cnn_accuracy*100:.2f}%\")\n",
    "\n",
    "# Evaluate SVM model\n",
    "svm_predictions = svm_model.predict(X_test)\n",
    "svm_accuracy = accuracy_score(y_test, svm_predictions)\n",
    "print(f\"SVM Test Accuracy: {svm_accuracy*100:.2f}%\")\n",
    "\n",
    "# Print classification reports\n",
    "print(\"\\nCNN Classification Report:\")\n",
    "print(classification_report(y_test, cnn_predictions, target_names=categories))\n",
    "\n",
    "print(\"\\nSVM Classification Report:\")\n",
    "print(classification_report(y_test, svm_predictions, target_names=categories))\n",
    "\n",
    "# Plot confusion matrix for CNN\n",
    "plt.figure(figsize=(10, 8))\n",
    "cnn_cm = confusion_matrix(y_test, cnn_predictions)\n",
    "sns.heatmap(cnn_cm, annot=True, fmt='d', cmap='Blues', xticklabels=categories, yticklabels=categories)\n",
    "plt.title('CNN Confusion Matrix')\n",
    "plt.xlabel('Predicted')\n",
    "plt.ylabel('True')\n",
    "plt.show()\n",
    "\n",
    "# Plot confusion matrix for SVM\n",
    "plt.figure(figsize=(10, 8))\n",
    "svm_cm = confusion_matrix(y_test, svm_predictions)\n",
    "sns.heatmap(svm_cm, annot=True, fmt='d', cmap='Blues', xticklabels=categories, yticklabels=categories)\n",
    "plt.title('SVM Confusion Matrix')\n",
    "plt.xlabel('Predicted')\n",
    "plt.ylabel('True')\n",
    "plt.show()"
   ]
  }
 ],
 "metadata": {
  "kernelspec": {
   "display_name": "Python 3",
   "language": "python",
   "name": "python3"
  },
  "language_info": {
   "codemirror_mode": {
    "name": "ipython",
    "version": 3
   },
   "file_extension": ".py",
   "mimetype": "text/x-python",
   "name": "python",
   "nbconvert_exporter": "python",
   "pygments_lexer": "ipython3",
   "version": "3.11.0"
  }
 },
 "nbformat": 4,
 "nbformat_minor": 2
}
